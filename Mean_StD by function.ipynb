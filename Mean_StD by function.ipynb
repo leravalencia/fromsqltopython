{
 "cells": [
  {
   "cell_type": "code",
   "execution_count": 2,
   "metadata": {},
   "outputs": [
    {
     "name": "stdout",
     "output_type": "stream",
     "text": [
      "Requirement already satisfied: psycopg2-binary in /Users/valeriya/anaconda3/lib/python3.6/site-packages (2.8.4)\r\n"
     ]
    }
   ],
   "source": [
    "!pip install psycopg2-binary"
   ]
  },
  {
   "cell_type": "code",
   "execution_count": 19,
   "metadata": {},
   "outputs": [],
   "source": [
    "from sqlalchemy import create_engine"
   ]
  },
  {
   "cell_type": "code",
   "execution_count": 5,
   "metadata": {},
   "outputs": [],
   "source": [
    "postgres_user = 'dsbc_student'\n",
    "postgres_pw = '7*.8G9QH21'\n",
    "postgres_host = '142.93.121.174'\n",
    "postgres_port = '5432'\n",
    "postgres_db = 'dvdrentals'\n",
    "\n",
    "# use the credentials to start a connection\n",
    "engine = create_engine('postgresql://{}:{}@{}:{}/{}'.format(\n",
    "\n",
    "    postgres_user, postgres_pw, postgres_host, postgres_port, postgres_db))"
   ]
  },
  {
   "cell_type": "code",
   "execution_count": 7,
   "metadata": {},
   "outputs": [
    {
     "name": "stdout",
     "output_type": "stream",
     "text": [
      "(1, 'ACADEMY DINOSAUR', 'A Epic Drama of a Feminist And a Mad Scientist who must Battle a Teacher in The Canadian Rockies', 2006, 1, None, 6, Decimal('0.99'), 86, Decimal('20.99'), 'PG', datetime.datetime(2007, 9, 10, 17, 46, 3, 905795), ['Deleted Scenes', 'Behind the Scenes'], \"'academi':1 'battl':15 'canadian':20 'dinosaur':2 'drama':5 'epic':4 'feminist':8 'mad':11 'must':14 'rocki':21 'scientist':12 'teacher':17\")\n"
     ]
    }
   ],
   "source": [
    "sql = '''\n",
    "  SELECT *\n",
    "  FROM film\n",
    "  LIMIT 1\n",
    "'''\n",
    "\n",
    "results = engine.execute(sql)\n",
    "engine.dispose()\n",
    "rows = results.fetchall()\n",
    "\n",
    "# print some results just to see what we got\n",
    "for row in rows:\n",
    "  print(row)"
   ]
  },
  {
   "cell_type": "code",
   "execution_count": 8,
   "metadata": {},
   "outputs": [
    {
     "data": {
      "text/plain": [
       "['film_id',\n",
       " 'title',\n",
       " 'description',\n",
       " 'release_year',\n",
       " 'language_id',\n",
       " 'original_language_id',\n",
       " 'rental_duration',\n",
       " 'rental_rate',\n",
       " 'length',\n",
       " 'replacement_cost',\n",
       " 'rating',\n",
       " 'last_update',\n",
       " 'special_features',\n",
       " 'fulltext']"
      ]
     },
     "execution_count": 8,
     "metadata": {},
     "output_type": "execute_result"
    }
   ],
   "source": [
    "firstrow = rows[0]\n",
    "firstrow.keys()"
   ]
  },
  {
   "cell_type": "code",
   "execution_count": 9,
   "metadata": {},
   "outputs": [
    {
     "name": "stdout",
     "output_type": "stream",
     "text": [
      "(195, 'R')\n",
      "(210, 'NC-17')\n",
      "(194, 'PG')\n",
      "(223, 'PG-13')\n",
      "(178, 'G')\n"
     ]
    }
   ],
   "source": [
    "#How many movies are released for each rating?\n",
    "sql = '''\n",
    "SELECT count (*), rating\n",
    "FROM film\n",
    "GROUP BY rating\n",
    "'''\n",
    "results = engine.execute(sql)\n",
    "engine.dispose()\n",
    "rows = results.fetchall()\n",
    "\n",
    "# print some results just to see what we got\n",
    "for row in rows:\n",
    "  print(row)"
   ]
  },
  {
   "cell_type": "code",
   "execution_count": 41,
   "metadata": {},
   "outputs": [
    {
     "name": "stdout",
     "output_type": "stream",
     "text": [
      "(Decimal('4.7743589743589744'), 'R')\n",
      "(Decimal('5.1428571428571429'), 'NC-17')\n",
      "(Decimal('5.0824742268041237'), 'PG')\n",
      "(Decimal('5.0538116591928251'), 'PG-13')\n",
      "(Decimal('4.8370786516853933'), 'G')\n"
     ]
    }
   ],
   "source": [
    "# What is the average rental duration for each rating?\n",
    "sql = '''\n",
    "SELECT AVG (rental_duration), rating\n",
    "FROM film\n",
    "GROUP BY rating\n",
    "'''\n",
    "results = engine.execute(sql)\n",
    "engine.dispose()\n",
    "rows = results.fetchall()\n",
    "\n",
    "# print some results just to see what we got\n",
    "for row in rows:\n",
    "  print(row)"
   ]
  },
  {
   "cell_type": "code",
   "execution_count": 56,
   "metadata": {},
   "outputs": [
    {
     "name": "stdout",
     "output_type": "stream",
     "text": [
      "(115,)\n"
     ]
    }
   ],
   "source": [
    "#What is the mean movie length? Calculate this by defining a function.\n",
    "sql = '''\n",
    "SELECT SUM(length)/COUNT(length) as avg\n",
    "FROM film\n",
    "'''\n",
    "results = engine.execute(sql)\n",
    "engine.dispose()\n",
    "rows = results.fetchall()\n",
    "\n",
    "# print some results just to see what we got\n",
    "for row in rows:\n",
    "  print(row)"
   ]
  },
  {
   "cell_type": "code",
   "execution_count": 20,
   "metadata": {},
   "outputs": [
    {
     "name": "stdout",
     "output_type": "stream",
     "text": [
      "The mean of the length is 115.272\n"
     ]
    }
   ],
   "source": [
    "sql = '''\n",
    "SELECT length \n",
    "FROM film\n",
    "'''\n",
    "results = engine.execute(sql)\n",
    "engine.dispose()\n",
    "rows = results.fetchall()\n",
    "length = [x['length'] for x in rows]\n",
    "\n",
    "def mean(numbers):\n",
    "  total_sum = 0;  # initialize the sum to zero\n",
    "  for n in numbers:\n",
    "    total_sum += n # add up the numbers in the array\n",
    "  count = len(numbers)   # find the length of the array\n",
    "  avg = total_sum / count  # calculate the mean\n",
    "  return avg  # return the result\n",
    "\n",
    "print('The mean of the length is {}'.format(mean(length)))"
   ]
  },
  {
   "cell_type": "code",
   "execution_count": 17,
   "metadata": {},
   "outputs": [
    {
     "name": "stdout",
     "output_type": "stream",
     "text": [
      "<class 'sqlalchemy.engine.result.RowProxy'>\n"
     ]
    }
   ],
   "source": [
    "print(type(rows[0]))"
   ]
  },
  {
   "cell_type": "code",
   "execution_count": 23,
   "metadata": {},
   "outputs": [
    {
     "name": "stdout",
     "output_type": "stream",
     "text": [
      "The median of the length is 114.0\n"
     ]
    }
   ],
   "source": [
    "#What is the median movie length? Calculate this by defining a function.\n",
    "import math\n",
    "\n",
    "sql = '''\n",
    "SELECT length \n",
    "FROM film\n",
    "'''\n",
    "results = engine.execute(sql)\n",
    "engine.dispose()\n",
    "rows = results.fetchall()\n",
    "length = [x['length'] for x in rows]\n",
    "\n",
    "def median(numbers):\n",
    "  numbers.sort()  # sort the list of numbers\n",
    "  count = len(numbers) # get the length of the array\n",
    "  isEven = count % 2 == 0 # check if this list is of even length\n",
    "  \n",
    "  if (isEven):\n",
    "    # find the two numbers in the middle of the array\n",
    "    mid = math.floor( count / 2 )\n",
    "    a = numbers[mid]\n",
    "    b = numbers[mid + 1]\n",
    "    # find the average of these two numbers\n",
    "    ans = (a + b) / 2\n",
    "  else:\n",
    "    ans = numbers[math.floor( count / 2 )]\n",
    " \n",
    "  return ans\n",
    "\n",
    "print('The median of the length is {}'.format(median(length)))"
   ]
  },
  {
   "cell_type": "code",
   "execution_count": 25,
   "metadata": {},
   "outputs": [
    {
     "name": "stdout",
     "output_type": "stream",
     "text": [
      "The standard deviation of the length is 40.42633181855987\n"
     ]
    }
   ],
   "source": [
    "#Calculate the standard deviation of the movie lengths. Calculate this by defining a function.\n",
    "import math\n",
    "\n",
    "sql = '''\n",
    "SELECT length \n",
    "FROM film\n",
    "'''\n",
    "results = engine.execute(sql)\n",
    "engine.dispose()\n",
    "rows = results.fetchall()\n",
    "length = [x['length'] for x in rows]\n",
    "\n",
    "def standard_deviation(numbers):\n",
    "  X_bar = mean(numbers)\n",
    "  N = len(numbers)\n",
    "  total_sum = 0\n",
    "  for X in numbers:\n",
    "    diff = X - X_bar\n",
    "    squared = math.pow(diff, 2)\n",
    "    total_sum += squared\n",
    "  sigma = math.sqrt(total_sum / (N - 1))  \n",
    "  return sigma\n",
    "\n",
    "print('The standard deviation of the length is {}'.format(standard_deviation(length)))"
   ]
  },
  {
   "cell_type": "code",
   "execution_count": null,
   "metadata": {},
   "outputs": [],
   "source": []
  }
 ],
 "metadata": {
  "kernelspec": {
   "display_name": "Python 3",
   "language": "python",
   "name": "python3"
  },
  "language_info": {
   "codemirror_mode": {
    "name": "ipython",
    "version": 3
   },
   "file_extension": ".py",
   "mimetype": "text/x-python",
   "name": "python",
   "nbconvert_exporter": "python",
   "pygments_lexer": "ipython3",
   "version": "3.6.5"
  }
 },
 "nbformat": 4,
 "nbformat_minor": 2
}
